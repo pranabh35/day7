{
 "cells": [
  {
   "cell_type": "code",
   "execution_count": null,
   "metadata": {
    "id": "xjfgeHnbzxWj"
   },
   "outputs": [],
   "source": [
    "# Multilevel inheritance\n",
    "# code\n",
    "class Animal:\n",
    "    def __init__(self, name, species):\n",
    "        self.name = name\n",
    "        self.species = species\n",
    "\n",
    "    def speak(self):\n",
    "        print(\"Animal speaks\")\n",
    "\n",
    "    def eat(self):\n",
    "        print(\"Animal eats\")\n"
   ]
  },
  {
   "cell_type": "code",
   "execution_count": null,
   "metadata": {
    "colab": {
     "base_uri": "https://localhost:8080/"
    },
    "executionInfo": {
     "elapsed": 744,
     "status": "ok",
     "timestamp": 1746974958577,
     "user": {
      "displayName": "Pranab Halder",
      "userId": "17597607183538857189"
     },
     "user_tz": -330
    },
    "id": "CU8ynsN20TWf",
    "outputId": "4103566f-31db-41ed-f8b1-ab84cd9c551e"
   },
   "outputs": [],
   "source": [
    "# Define the parent class Animal\n",
    "class Animal:\n",
    "    def __init__(self, name, species):\n",
    "        self.name = name\n",
    "        self.species = species\n",
    "\n",
    "    def speak(self):\n",
    "        print(\"Animal speaks\")  # Generic animal sound\n",
    "\n",
    "    def eat(self):\n",
    "        print(\"Animal eats\")  # Generic eating behavior\n",
    "\n",
    "\n",
    "# Define the child class Dog, inheriting from Animal\n",
    "class Dog(Animal):\n",
    "    def __init__(self, name, breed):\n",
    "        # Call the parent class's __init__ method to initialize name and species\n",
    "        super().__init__(name, species=\"Dog\")\n",
    "        self.breed = breed\n",
    "\n",
    "    def speak(self):\n",
    "        print(\"Woof!\")  # Dog-specific sound\n",
    "\n",
    "    def fetch(self):\n",
    "        print(\"Fetching the ball!\")  # Dog-specific behavior\n",
    "\n",
    "\n",
    "# Define the grandchild class GoldenRetriever, inheriting from Dog\n",
    "class GoldenRetriever(Dog):\n",
    "    def __init__(self, name):\n",
    "        # Call the parent class's __init__ method to initialize name and breed\n",
    "        super().__init__(name, breed=\"Golden Retriever\")\n",
    "\n",
    "    def wag_tail(self):\n",
    "        print(\"Wagging tail happily!\")  # Golden Retriever-specific behavior\n",
    "\n",
    "# Create instances of the classes\n",
    "animal = Animal(\"Generic Animal\", \"Unknown\")\n",
    "dog = Dog(\"Buddy\", \"Labrador\")\n",
    "golden_retriever = GoldenRetriever(\"Max\")\n",
    "\n",
    "# Demonstrate multilevel inheritance\n",
    "animal.speak()  # Output: Animal speaks\n",
    "dog.speak()  # Output: Woof!\n",
    "golden_retriever.speak()  # Output: Woof! (Inherited from Dog)\n",
    "\n",
    "golden_retriever.wag_tail()  # Output: Wagging tail happily!\n",
    "golden_retriever.fetch() # Output: Fetching the ball! (Inherited from Dog)\n",
    "golden_retriever.eat() # Output: Animal eats (Inherited from Animal)"
   ]
  },
  {
   "cell_type": "code",
   "execution_count": null,
   "metadata": {
    "id": "pWYudq1V0jc1"
   },
   "outputs": [],
   "source": [
    "# Define the parent class A\n",
    "class A:\n",
    "    def __init__(self, name, age):\n",
    "        self.name = name\n",
    "        self.age = age\n",
    "\n",
    "    def display_info(self):\n",
    "        print(f\"Name: {self.name}, Age: {self.age}\")\n",
    "\n",
    "\n",
    "# Define the child class B, inheriting from A\n",
    "class B(A):\n",
    "    def __init__(self, name, age, location):\n",
    "        # Call the parent class's __init__ method to initialize name and age\n",
    "        super().__init__(name, age)\n",
    "        self.location = location\n",
    "\n",
    "    def display_info(self):\n",
    "        # Call the parent class's display_info method\n",
    "        super().display_info()\n",
    "        print(f\"Location: {self.location}\")\n",
    "\n",
    "\n",
    "# Define the grandchild class C, inheriting from B\n",
    "class C(B):\n",
    "    def __init__(self, name, age, location, occupation):\n",
    "        # Call the parent class's __init__ method to initialize name, age, and location\n",
    "        super().__init__(name, age, location)\n",
    "        self.occupation = occupation\n",
    "\n",
    "    def display_info(self):\n",
    "        # Call the parent class's display_info method\n",
    "        super().display_info()\n",
    "        print(f\"Occupation: {self.occupation}\")\n",
    "\n",
    "# Create instances of the classes\n",
    "a = A(\"John\", 30)\n",
    "b = B(\"Alice\", 25, \"New York\")\n",
    "c = C(\"Bob\", 20, \"London\", \"Student\")\n",
    "\n",
    "# Demonstrate multilevel inheritance\n",
    "a.display_info()  # Output: Name: John, Age: 30\n",
    "b.display_info()  # Output: Name: Alice, Age: 25, Location: New York\n",
    "c.display_info()  # Output: Name: Bob, Age: 20, Location: London, Occupation: Student"
   ]
  },
  {
   "cell_type": "code",
   "execution_count": null,
   "metadata": {
    "colab": {
     "base_uri": "https://localhost:8080/"
    },
    "executionInfo": {
     "elapsed": 647,
     "status": "ok",
     "timestamp": 1746975564369,
     "user": {
      "displayName": "Pranab Halder",
      "userId": "17597607183538857189"
     },
     "user_tz": -330
    },
    "id": "X0TEs4aQ04cx",
    "outputId": "3f600020-ed9a-4bed-852c-7232350c9730"
   },
   "outputs": [],
   "source": [
    "# Define the parent class A\n",
    "class A:\n",
    "    def __init__(self, name, age):\n",
    "        self.name = name\n",
    "        self.age = age\n",
    "\n",
    "    def display_info(self):\n",
    "        print(f\"Name: {self.name}, Age: {self.age}\")\n",
    "\n",
    "\n",
    "# Define the child class B, inheriting from A\n",
    "class B(A):\n",
    "    def __init__(self, name, age, location):\n",
    "        # Call the parent class's __init__ method to initialize name and age\n",
    "        super().__init__(name, age)\n",
    "        self.location = location\n",
    "\n",
    "    def display_info(self):\n",
    "        # Call the parent class's display_info method\n",
    "        super().display_info()\n",
    "        print(f\"Location: {self.location}\")\n",
    "\n",
    "\n",
    "# Define the grandchild class C, inheriting from B\n",
    "class C(B):\n",
    "    def __init__(self, name, age, location, occupation):\n",
    "        # Call the parent class's __init__ method to initialize name, age, and location\n",
    "        super().__init__(name, age, location)\n",
    "        self.occupation = occupation\n",
    "\n",
    "    def display_info(self):\n",
    "        # Call the parent class's display_info method\n",
    "        super().display_info()\n",
    "        print(f\"Occupation: {self.occupation}\")\n",
    "\n",
    "# Define the great-grandchild class D, inheriting from C\n",
    "class D(C):\n",
    "    def __init__(self, name, age, location, job_role):\n",
    "        # Call the parent class's __init__ method to initialize name, age, location, and occupation\n",
    "        super().__init__(name, age, location, occupation=\"N/A\") # Setting occupation to N/A as it is replaced by job_role in this class\n",
    "        self.job_role = job_role\n",
    "\n",
    "    def display_info(self):\n",
    "        # Call the parent class's display_info method\n",
    "        super().display_info()\n",
    "        print(f\"Job Role: {self.job_role}\")\n",
    "\n",
    "# Create instances of the classes\n",
    "a = A(\"John\", 30)\n",
    "b = B(\"Alice\", 25, \"New York\")\n",
    "c = C(\"Bob\", 20, \"London\", \"Student\")\n",
    "d = D(\"Eve\", 28, \"Paris\", \"Software Engineer\")\n",
    "\n",
    "# Demonstrate multilevel inheritance\n",
    "a.display_info()  # Output: Name: John, Age: 30\n",
    "b.display_info()  # Output: Name: Alice, Age: 25, Location: New York\n",
    "c.display_info()  # Output: Name: Bob, Age: 20, Location: London, Occupation: Student\n",
    "d.display_info()  # Output: Name: Eve, Age: 28, Location: Paris, Occupation: N/A, Job Role: Software Engineer"
   ]
  },
  {
   "cell_type": "code",
   "execution_count": null,
   "metadata": {
    "colab": {
     "base_uri": "https://localhost:8080/"
    },
    "executionInfo": {
     "elapsed": 425,
     "status": "ok",
     "timestamp": 1746975596309,
     "user": {
      "displayName": "Pranab Halder",
      "userId": "17597607183538857189"
     },
     "user_tz": -330
    },
    "id": "EwZDb-Y925pt",
    "outputId": "64e5c97c-5563-4627-9483-e23175a7468a"
   },
   "outputs": [],
   "source": [
    "# Define the parent class A\n",
    "class A:\n",
    "    def __init__(self, name, age):\n",
    "        self.name = name\n",
    "        self.age = age\n",
    "\n",
    "    def display_info(self):\n",
    "        print(f\"Name: {self.name}, Age: {self.age}\")\n",
    "\n",
    "\n",
    "# Define the child class B, inheriting from A\n",
    "class B(A):\n",
    "    def __init__(self, name, age, location):\n",
    "        # Initialize attributes from parent class A\n",
    "        A.__init__(self, name, age)\n",
    "        self.location = location\n",
    "\n",
    "    def display_info(self):\n",
    "        # Call display_info from parent class A\n",
    "        A.display_info(self)\n",
    "        print(f\"Location: {self.location}\")\n",
    "\n",
    "\n",
    "# Define the grandchild class C, inheriting from B\n",
    "class C(B):\n",
    "    def __init__(self, name, age, location, occupation):\n",
    "        # Initialize attributes from parent class B\n",
    "        B.__init__(self, name, age, location)\n",
    "        self.occupation = occupation\n",
    "\n",
    "    def display_info(self):\n",
    "        # Call display_info from parent class B\n",
    "        B.display_info(self)\n",
    "        print(f\"Occupation: {self.occupation}\")\n",
    "\n",
    "# Define the great-grandchild class D, inheriting from C\n",
    "class D(C):\n",
    "    def __init__(self, name, age, location, job_role):\n",
    "        # Initialize attributes from parent class C\n",
    "        C.__init__(self, name, age, location, occupation=\"N/A\")  # Setting occupation to N/A as it is replaced by job_role in this class\n",
    "        self.job_role = job_role\n",
    "\n",
    "    def display_info(self):\n",
    "        # Call display_info from parent class C\n",
    "        C.display_info(self)\n",
    "        print(f\"Job Role: {self.job_role}\")\n",
    "\n",
    "# Create instances of the classes\n",
    "a = A(\"John\", 30)\n",
    "b = B(\"Alice\", 25, \"New York\")\n",
    "c = C(\"Bob\", 20, \"London\", \"Student\")\n",
    "d = D(\"Eve\", 28, \"Paris\", \"Software Engineer\")\n",
    "\n",
    "# Demonstrate multilevel inheritance\n",
    "a.display_info()  # Output: Name: John, Age: 30\n",
    "b.display_info()  # Output: Name: Alice, Age: 25, Location: New York\n",
    "c.display_info()  # Output: Name: Bob, Age: 20, Location: London, Occupation: Student\n",
    "d.display_info()  # Output: Name: Eve, Age: 28, Location: Paris, Occupation: N/A, Job Role: Software Engineer"
   ]
  },
  {
   "cell_type": "code",
   "execution_count": null,
   "metadata": {
    "id": "zuL4gSF13Vwo"
   },
   "outputs": [],
   "source": []
  },
  {
   "cell_type": "code",
   "execution_count": null,
   "metadata": {
    "colab": {
     "base_uri": "https://localhost:8080/"
    },
    "executionInfo": {
     "elapsed": 5,
     "status": "ok",
     "timestamp": 1746975684668,
     "user": {
      "displayName": "Pranab Halder",
      "userId": "17597607183538857189"
     },
     "user_tz": -330
    },
    "id": "gZHho9oq3BpV",
    "outputId": "f76f60d5-c76f-4f05-a155-4253359d5aeb"
   },
   "outputs": [],
   "source": [
    "# Hierarchical Inheritance\n",
    "class Vehicle:  # Base class\n",
    "    def __init__(self, make, model):\n",
    "        self.make = make\n",
    "        self.model = model\n",
    "\n",
    "    def start(self):\n",
    "        print(\"Starting the engine...\")\n",
    "\n",
    "class Car(Vehicle):  # Derived class 1\n",
    "    def __init__(self, make, model, num_doors):\n",
    "        super().__init__(make, model)\n",
    "        self.num_doors = num_doors\n",
    "\n",
    "    def drive(self):\n",
    "        print(\"Driving the car...\")\n",
    "\n",
    "class Motorcycle(Vehicle):  # Derived class 2\n",
    "    def __init__(self, make, model, engine_size):\n",
    "        super().__init__(make, model)\n",
    "        self.engine_size = engine_size\n",
    "\n",
    "    def ride(self):\n",
    "        print(\"Riding the motorcycle...\")\n",
    "\n",
    "# Create objects\n",
    "car = Car(\"Toyota\", \"Camry\", 4)\n",
    "motorcycle = Motorcycle(\"Honda\", \"CBR\", 600)\n",
    "\n",
    "# Access methods and attributes\n",
    "car.start()  # Output: Starting the engine...\n",
    "car.drive()  # Output: Driving the car...\n",
    "print(car.make)  # Output: Toyota\n",
    "\n",
    "motorcycle.start()  # Output: Starting the engine...\n",
    "motorcycle.ride()  # Output: Riding the motorcycle...\n",
    "print(motorcycle.model)  # Output: CBR\n"
   ]
  },
  {
   "cell_type": "code",
   "execution_count": null,
   "metadata": {
    "id": "K2LEShiu3XKY"
   },
   "outputs": [],
   "source": []
  },
  {
   "cell_type": "code",
   "execution_count": null,
   "metadata": {
    "colab": {
     "base_uri": "https://localhost:8080/"
    },
    "executionInfo": {
     "elapsed": 4,
     "status": "ok",
     "timestamp": 1746977173505,
     "user": {
      "displayName": "Pranab Halder",
      "userId": "17597607183538857189"
     },
     "user_tz": -330
    },
    "id": "lwsvgeku3v-v",
    "outputId": "ba340550-16f7-4439-de36-c8a486e76ea3"
   },
   "outputs": [],
   "source": [
    "\n",
    "class ElectronicDevice:  # Base class\n",
    "    def __init__(self, brand, model):\n",
    "        self.brand = brand\n",
    "        self.model = model\n",
    "\n",
    "    def turn_on(self):\n",
    "        print(\"Turning on the device...\")\n",
    "\n",
    "    def turn_off(self):\n",
    "        print(\"Turning off the device...\")\n",
    "\n",
    "class Smartphone(ElectronicDevice):  # Derived class 1\n",
    "    def __init__(self, brand, model, screen_size):\n",
    "        super().__init__(brand, model)\n",
    "        self.screen_size = screen_size\n",
    "\n",
    "    def make_call(self, number):\n",
    "        print(f\"Calling {number}...\")\n",
    "\n",
    "    def browse_internet(self, website):\n",
    "        print(f\"Browsing {website}...\")\n",
    "\n",
    "class Television(ElectronicDevice):  # Derived class 2\n",
    "    def __init__(self, brand, model, resolution):\n",
    "        super().__init__(brand, model)\n",
    "        self.resolution = resolution\n",
    "\n",
    "    def change_channel(self, channel_number):\n",
    "        print(f\"Changing to channel {channel_number}...\")\n",
    "\n",
    "    def adjust_volume(self, volume_level):\n",
    "        print(f\"Setting volume to {volume_level}...\")\n",
    "\n",
    "# Create objects\n",
    "smartphone = Smartphone(\"Samsung\", \"Galaxy S21\", 6.2)\n",
    "television = Television(\"LG\", \"OLED C1\", \"4K\")\n",
    "\n",
    "# Access methods and attributes\n",
    "smartphone.turn_on()  # Output: Turning on the device...\n",
    "smartphone.make_call(\"123-456-7890\")  # Output: Calling 123-456-7890...\n",
    "print(smartphone.brand)  # Output: Samsung\n",
    "\n",
    "television.turn_on()  # Output: Turning on the device...\n",
    "television.change_channel(5)  # Output: Changing to channel 5...\n",
    "print(television.resolution)  # Output: 4K"
   ]
  },
  {
   "cell_type": "code",
   "execution_count": null,
   "metadata": {
    "colab": {
     "base_uri": "https://localhost:8080/"
    },
    "executionInfo": {
     "elapsed": 3,
     "status": "ok",
     "timestamp": 1746977176500,
     "user": {
      "displayName": "Pranab Halder",
      "userId": "17597607183538857189"
     },
     "user_tz": -330
    },
    "id": "mZm5UxDt9CZ0",
    "outputId": "50cacb99-9d93-4a1a-e3c1-f29bbd7f9297"
   },
   "outputs": [],
   "source": [
    "class Animal: # Super Class\n",
    "\n",
    "    def __init__(Self, Name):\n",
    "        Self.Name =Name\n",
    "\n",
    "    def show(self):\n",
    "        return f\" I am an animal and my name is {self.Name}\"\n",
    "\n",
    "\n",
    "class Dog(Animal):\n",
    "\n",
    "    def __init__(self, Name):\n",
    "        super().__init__(Name)\n",
    "\n",
    "    def Make_sound(self):\n",
    "        return f\"{self.Name} make sound woof!\"\n",
    "\n",
    "class cat(Animal):\n",
    "\n",
    "    def __init__(self, Name):\n",
    "        super().__init__(Name)\n",
    "\n",
    "    def Make_sound(self):\n",
    "        return f\"{self.Name} make sound meow!\"\n",
    "\n",
    "class cow(Animal):\n",
    "\n",
    "    def __init__(self, Name):\n",
    "        super().__init__(Name)\n",
    "\n",
    "    def Make_sound(self):\n",
    "        return f\"{self.Name} make sound hamaba!\"\n",
    "\n",
    "my_dog = Dog(\"Mr X\")\n",
    "my_cat = cat(\"Tom\")\n",
    "my_cow = cow(\"Mr Y\")\n",
    "\n",
    "print(my_dog.Make_sound())\n",
    "print(my_dog.show())\n",
    "print(my_cat.Make_sound())\n",
    "print(my_cat.show())\n",
    "print(my_cow.Make_sound())\n",
    "print(my_cow.show())"
   ]
  },
  {
   "cell_type": "code",
   "execution_count": null,
   "metadata": {
    "id": "sw05XDZa9DLX"
   },
   "outputs": [],
   "source": []
  },
  {
   "cell_type": "code",
   "execution_count": null,
   "metadata": {
    "id": "vhiB8yjr9xyF"
   },
   "outputs": [],
   "source": [
    "class Animal: # Super Class\n",
    "\n",
    "    def __init__(Self, Name):\n",
    "        Self.Name =Name\n",
    "\n",
    "    def show(self):\n",
    "        return f\" I am an animal and my name is {self.Name}\"\n",
    "\n",
    "\n",
    "class Dog(Animal):\n",
    "\n",
    "    def __init__(self, Name):\n",
    "        super().__init__(Name)\n",
    "\n",
    "    def Make_sound(self):\n",
    "        return f\"{self.Name} make sound woof!\"\n",
    "\n",
    "class cat(Animal):\n",
    "\n",
    "    def __init__(self, Name):\n",
    "        super().__init__(Name)\n",
    "\n",
    "    def Make_sound(self):\n",
    "        return f\"{self.Name} make sound meow!\"\n",
    "\n",
    "class cow(Animal):\n",
    "\n",
    "    def __init__(self, Name):\n",
    "        super().__init__(Name)\n",
    "\n",
    "    def Make_sound(self):\n",
    "        return f\"{self.Name} make sound hamaba!\"\n",
    "\n",
    "my_dog = Dog(\"Mr X\")\n",
    "my_cat = cat(\"Tom\")\n",
    "my_cow = cow(\"Mr Y\")\n",
    "\n",
    "print(my_dog.Make_sound())\n",
    "print(my_dog.show())\n",
    "print(my_cat.Make_sound())\n",
    "print(my_cat.show())\n",
    "print(my_cow.Make_sound())\n",
    "print(my_cow.show())"
   ]
  },
  {
   "cell_type": "code",
   "execution_count": null,
   "metadata": {
    "colab": {
     "base_uri": "https://localhost:8080/"
    },
    "executionInfo": {
     "elapsed": 448,
     "status": "ok",
     "timestamp": 1746977480947,
     "user": {
      "displayName": "Pranab Halder",
      "userId": "17597607183538857189"
     },
     "user_tz": -330
    },
    "id": "mKSJ77FW-Ipx",
    "outputId": "33a6182d-bb1d-466a-c2c4-1f391aa6a8f9"
   },
   "outputs": [],
   "source": [
    "class Animal:\n",
    "    def speak(self):\n",
    "        pass  # This will be overridden in child classes\n",
    "\n",
    "class Dog(Animal):\n",
    "    def speak(self):\n",
    "        print(\"Woof!\")\n",
    "\n",
    "class Cat(Animal):\n",
    "    def speak(self):\n",
    "        print(\"Meow!\")\n",
    "\n",
    "class Cow(Animal):\n",
    "    def speak(self):\n",
    "        print(\"Moo!\")\n",
    "\n",
    "# Create objects\n",
    "dog = Dog()\n",
    "cat = Cat()\n",
    "cow = Cow()\n",
    "\n",
    "# Polymorphism in action\n",
    "for animal in [dog, cat, cow]:\n",
    "    animal.speak()"
   ]
  },
  {
   "cell_type": "code",
   "execution_count": null,
   "metadata": {
    "id": "Hhu-djbS-Nwr"
   },
   "outputs": [],
   "source": []
  },
  {
   "cell_type": "code",
   "execution_count": null,
   "metadata": {
    "colab": {
     "base_uri": "https://localhost:8080/"
    },
    "executionInfo": {
     "elapsed": 6,
     "status": "ok",
     "timestamp": 1746977681552,
     "user": {
      "displayName": "Pranab Halder",
      "userId": "17597607183538857189"
     },
     "user_tz": -330
    },
    "id": "wU9DoaL6-541",
    "outputId": "fac34849-cdc4-4942-bf1e-dbbbadf2c01a"
   },
   "outputs": [],
   "source": [
    "class Account:\n",
    "    def __init__(self, account_number, balance):\n",
    "        self.account_number = account_number\n",
    "        self.balance = balance\n",
    "\n",
    "    def deposit(self, amount):\n",
    "        self.balance += amount\n",
    "        print(f\"Deposited {amount}. New balance: {self.balance}\")\n",
    "\n",
    "    def withdraw(self, amount):\n",
    "        if amount <= self.balance:\n",
    "            self.balance -= amount\n",
    "            print(f\"Withdrew {amount}. New balance: {self.balance}\")\n",
    "        else:\n",
    "            print(\"Insufficient funds\")\n",
    "\n",
    "    def get_interest(self):\n",
    "        pass  # To be overridden in child classes\n",
    "\n",
    "class SavingsAccount(Account):\n",
    "    def get_interest(self):\n",
    "        interest = self.balance * 0.05  # 5% interest\n",
    "        self.balance += interest\n",
    "        print(f\"Interest credited: {interest}. New balance: {self.balance}\")\n",
    "\n",
    "class CheckingAccount(Account):\n",
    "    def get_interest(self):\n",
    "        print(\"Checking accounts do not earn interest.\")\n",
    "\n",
    "# Create accounts\n",
    "savings_account = SavingsAccount(\"12345\", 1000)\n",
    "checking_account = CheckingAccount(\"67890\", 500)\n",
    "\n",
    "# Polymorphism in action\n",
    "for account in [savings_account, checking_account]:\n",
    "    account.deposit(100)\n",
    "    account.withdraw(50)\n",
    "    account.get_interest()  # Different behavior for different account types"
   ]
  },
  {
   "cell_type": "code",
   "execution_count": null,
   "metadata": {
    "id": "-RQAn662--pt"
   },
   "outputs": [],
   "source": []
  },
  {
   "cell_type": "code",
   "execution_count": null,
   "metadata": {
    "colab": {
     "base_uri": "https://localhost:8080/"
    },
    "executionInfo": {
     "elapsed": 4,
     "status": "ok",
     "timestamp": 1746977806631,
     "user": {
      "displayName": "Pranab Halder",
      "userId": "17597607183538857189"
     },
     "user_tz": -330
    },
    "id": "PVmNmCQu_aVq",
    "outputId": "ef18ffd3-3e3e-48d3-fc69-294b14506e78"
   },
   "outputs": [],
   "source": [
    "# Define a base class for all account types\n",
    "class Account:\n",
    "    def __init__(self, account_number, balance):\n",
    "        # Initialize account number and balance\n",
    "        self.account_number = account_number\n",
    "        self.balance = balance\n",
    "\n",
    "    def deposit(self, amount):\n",
    "        # Add the deposit amount to the balance\n",
    "        self.balance += amount\n",
    "        print(f\"Deposited {amount}. New balance: {self.balance}\")\n",
    "\n",
    "    def withdraw(self, amount):\n",
    "        # Check if sufficient funds are available\n",
    "        if amount <= self.balance:\n",
    "            # Deduct the withdrawal amount from the balance\n",
    "            self.balance -= amount\n",
    "            print(f\"Withdrew {amount}. New balance: {self.balance}\")\n",
    "        else:\n",
    "            print(\"Insufficient funds\")\n",
    "\n",
    "    def get_interest(self):\n",
    "        # Placeholder for interest calculation, to be overridden in child classes\n",
    "        pass\n",
    "\n",
    "# Define a class for savings accounts, inheriting from Account\n",
    "class SavingsAccount(Account):\n",
    "    def get_interest(self):\n",
    "        # Calculate interest at 5% and add it to the balance\n",
    "        interest = self.balance * 0.05\n",
    "        self.balance += interest\n",
    "        print(f\"Interest credited: {interest}. New balance: {self.balance}\")\n",
    "\n",
    "# Define a class for checking accounts, inheriting from Account\n",
    "class CheckingAccount(Account):\n",
    "    def get_interest(self):\n",
    "        # Checking accounts do not earn interest\n",
    "        print(\"Checking accounts do not earn interest.\")\n",
    "\n",
    "# Create instances of savings and checking accounts\n",
    "savings_account = SavingsAccount(\"12345\", 1000)\n",
    "checking_account = CheckingAccount(\"67890\", 500)\n",
    "\n",
    "# Demonstrate polymorphism by calling get_interest on different account types\n",
    "for account in [savings_account, checking_account]:\n",
    "    account.deposit(100)  # Deposit $100 into the account\n",
    "    account.withdraw(50)  # Withdraw $50 from the account\n",
    "    account.get_interest()  # Calculate and apply interest (if applicable)"
   ]
  },
  {
   "cell_type": "code",
   "execution_count": null,
   "metadata": {
    "id": "YvxRnr3t_dMJ"
   },
   "outputs": [],
   "source": []
  },
  {
   "cell_type": "code",
   "execution_count": null,
   "metadata": {
    "colab": {
     "base_uri": "https://localhost:8080/"
    },
    "executionInfo": {
     "elapsed": 428,
     "status": "ok",
     "timestamp": 1746977898679,
     "user": {
      "displayName": "Pranab Halder",
      "userId": "17597607183538857189"
     },
     "user_tz": -330
    },
    "id": "XT8bmwpT_n5Y",
    "outputId": "ac01c049-15d0-4602-d6b4-e86536e4ac70"
   },
   "outputs": [],
   "source": [
    "class Calculator:\n",
    "    def add(self, a, b=None, c=None):  # Method with default parameters\n",
    "        if b is None and c is None:\n",
    "            return a  # If only one argument, return it as is\n",
    "        elif c is None:\n",
    "            return a + b  # If two arguments, add them\n",
    "        else:\n",
    "            return a + b + c  # If three arguments, add all three\n",
    "\n",
    "# Create a calculator object\n",
    "calc = Calculator()\n",
    "\n",
    "# Demonstrate method overloading\n",
    "result1 = calc.add(5)  # Calls add(a)\n",
    "result2 = calc.add(5, 10)  # Calls add(a, b)\n",
    "result3 = calc.add(5, 10, 15)  # Calls add(a, b, c)\n",
    "\n",
    "print(result1)  # Output: 5\n",
    "print(result2)  # Output: 15\n",
    "print(result3)  # Output: 30"
   ]
  },
  {
   "cell_type": "code",
   "execution_count": null,
   "metadata": {
    "id": "E4Fh65fg_zqR"
   },
   "outputs": [],
   "source": []
  },
  {
   "cell_type": "code",
   "execution_count": 1,
   "metadata": {
    "colab": {
     "base_uri": "https://localhost:8080/"
    },
    "executionInfo": {
     "elapsed": 472,
     "status": "ok",
     "timestamp": 1746978154265,
     "user": {
      "displayName": "Pranab Halder",
      "userId": "17597607183538857189"
     },
     "user_tz": -330
    },
    "id": "MW5YxASWAnaG",
    "outputId": "0345b383-57fe-407e-b774-770e1cee8889"
   },
   "outputs": [
    {
     "name": "stdout",
     "output_type": "stream",
     "text": [
      "(4, 6)\n"
     ]
    }
   ],
   "source": [
    "class Point:\n",
    "    def __init__(self, x, y):\n",
    "        self.x = x\n",
    "        self.y = y\n",
    "\n",
    "    def __add__(self, other):  # Overloading the + operator\n",
    "        return Point(self.x + other.x, self.y + other.y)\n",
    "\n",
    "    def __str__(self):  # Overloading the str() function\n",
    "        return f\"({self.x}, {self.y})\"\n",
    "\n",
    "# Create Point objects\n",
    "p1 = Point(1, 2)\n",
    "p2 = Point(3, 4)\n",
    "\n",
    "# Use the overloaded + operator\n",
    "p3 = p1 + p2\n",
    "\n",
    "# Print the result\n",
    "print(p3)  # Output: (4, 6)"
   ]
  },
  {
   "cell_type": "code",
   "execution_count": 2,
   "metadata": {
    "colab": {
     "base_uri": "https://localhost:8080/"
    },
    "executionInfo": {
     "elapsed": 1714,
     "status": "ok",
     "timestamp": 1746978907111,
     "user": {
      "displayName": "Pranab Halder",
      "userId": "17597607183538857189"
     },
     "user_tz": -330
    },
    "id": "xkcUsTxYDm8C",
    "outputId": "9eb3db1f-eb04-45fe-ba05-ca2d34cdef26"
   },
   "outputs": [
    {
     "name": "stdout",
     "output_type": "stream",
     "text": [
      "(3, 7)\n",
      "(1, -1)\n"
     ]
    }
   ],
   "source": [
    "class Vector:\n",
    "    def __init__(self, x, y):\n",
    "        self.x = x\n",
    "        self.y = y\n",
    "\n",
    "    def __add__(self, other):  # Overload + operator\n",
    "        return Vector(self.x + other.x, self.y + other.y)\n",
    "\n",
    "    def __sub__(self, other):  # Overload - operator\n",
    "        return Vector(self.x - other.x, self.y - other.y)\n",
    "\n",
    "    def __str__(self):  # Overload str() function\n",
    "        return f\"({self.x}, {self.y})\"\n",
    "\n",
    "v1 = Vector(2, 3)\n",
    "v2 = Vector(1, 4)\n",
    "\n",
    "v3 = v1 + v2  # Calls __add__ method\n",
    "v4 = v1 - v2  # Calls __sub__ method\n",
    "\n",
    "print(v3)  # Output: (3, 7)\n",
    "print(v4)  # Output: (1, -1)"
   ]
  },
  {
   "cell_type": "code",
   "execution_count": null,
   "metadata": {
    "id": "eKu8-MV7AyDS"
   },
   "outputs": [],
   "source": []
  },
  {
   "cell_type": "code",
   "execution_count": null,
   "metadata": {
    "colab": {
     "base_uri": "https://localhost:8080/"
    },
    "executionInfo": {
     "elapsed": 5,
     "status": "ok",
     "timestamp": 1746978917287,
     "user": {
      "displayName": "Pranab Halder",
      "userId": "17597607183538857189"
     },
     "user_tz": -330
    },
    "id": "N-zii5SNDp3D",
    "outputId": "03e340e6-2fbe-42cf-9d7a-14977fa0a8e6"
   },
   "outputs": [],
   "source": [
    "class Student:\n",
    "    def __init__(self, name, score):\n",
    "        self.name = name\n",
    "        self.score = score\n",
    "\n",
    "    def __eq__(self, other):  # Overload == operator\n",
    "        return self.score == other.score\n",
    "\n",
    "    def __lt__(self, other):  # Overload < operator\n",
    "        return self.score < other.score\n",
    "\n",
    "s1 = Student(\"Alice\", 85)\n",
    "s2 = Student(\"Bob\", 92)\n",
    "s3 = Student(\"Charlie\", 85)\n",
    "\n",
    "print(s1 == s2)  # Output: False\n",
    "print(s1 == s3)  # Output: True\n",
    "print(s1 < s2)  # Output: True"
   ]
  },
  {
   "cell_type": "code",
   "execution_count": null,
   "metadata": {
    "id": "ss7yJs_KDrJJ"
   },
   "outputs": [],
   "source": []
  },
  {
   "cell_type": "code",
   "execution_count": null,
   "metadata": {
    "colab": {
     "base_uri": "https://localhost:8080/"
    },
    "executionInfo": {
     "elapsed": 4,
     "status": "ok",
     "timestamp": 1746978921915,
     "user": {
      "displayName": "Pranab Halder",
      "userId": "17597607183538857189"
     },
     "user_tz": -330
    },
    "id": "EK0eGJpbDsFV",
    "outputId": "36c63581-e4ab-4c2e-c431-20977214f6c8"
   },
   "outputs": [],
   "source": [
    "class Counter:\n",
    "    def __init__(self, value):\n",
    "        self.value = value\n",
    "\n",
    "    def __iadd__(self, other):  # Overload += operator\n",
    "        self.value += other\n",
    "        return self\n",
    "\n",
    "    def __isub__(self, other):  # Overload -= operator\n",
    "        self.value -= other\n",
    "        return self\n",
    "\n",
    "counter = Counter(5)\n",
    "counter += 2  # Calls __iadd__ method\n",
    "counter -= 3  # Calls __isub__ method\n",
    "\n",
    "print(counter.value)  # Output: 4"
   ]
  },
  {
   "cell_type": "code",
   "execution_count": null,
   "metadata": {
    "id": "7wIVdNBXDsbM"
   },
   "outputs": [],
   "source": []
  },
  {
   "cell_type": "code",
   "execution_count": null,
   "metadata": {
    "colab": {
     "base_uri": "https://localhost:8080/"
    },
    "executionInfo": {
     "elapsed": 466,
     "status": "ok",
     "timestamp": 1746978930053,
     "user": {
      "displayName": "Pranab Halder",
      "userId": "17597607183538857189"
     },
     "user_tz": -330
    },
    "id": "E0C1lE4ZDvAY",
    "outputId": "71ef1871-5db1-4f1f-a65f-df610ea256d6"
   },
   "outputs": [],
   "source": [
    "class Number:\n",
    "    def __init__(self, value):\n",
    "        self.value = value\n",
    "\n",
    "    def __neg__(self):  # Overload - (negation) operator\n",
    "        return Number(-self.value)\n",
    "\n",
    "    def __str__(self):\n",
    "        return str(self.value)\n",
    "\n",
    "num = Number(10)\n",
    "neg_num = -num  # Calls __neg__ method\n",
    "\n",
    "print(neg_num)  # Output: -10"
   ]
  },
  {
   "cell_type": "code",
   "execution_count": null,
   "metadata": {
    "id": "wzhS9d-rDvju"
   },
   "outputs": [],
   "source": []
  },
  {
   "cell_type": "code",
   "execution_count": null,
   "metadata": {
    "colab": {
     "base_uri": "https://localhost:8080/"
    },
    "executionInfo": {
     "elapsed": 676,
     "status": "ok",
     "timestamp": 1746978949487,
     "user": {
      "displayName": "Pranab Halder",
      "userId": "17597607183538857189"
     },
     "user_tz": -330
    },
    "id": "6NHjpw1-DzdM",
    "outputId": "fdf99187-b5b0-40fe-a673-c4544e0fac31"
   },
   "outputs": [],
   "source": [
    "class MyList:\n",
    "    def __init__(self, data):\n",
    "        self.data = data\n",
    "\n",
    "    def __getitem__(self, index):  # Overload [] operator for indexing\n",
    "        return self.data[index]\n",
    "\n",
    "    def __setitem__(self, index, value):  # Overload [] operator for assignment\n",
    "        self.data[index] = value\n",
    "\n",
    "my_list = MyList([1, 2, 3, 4, 5])\n",
    "\n",
    "print(my_list[2])  # Output: 3\n",
    "my_list[2] = 10\n",
    "print(my_list[2])  # Output: 10"
   ]
  },
  {
   "cell_type": "code",
   "execution_count": null,
   "metadata": {
    "id": "mfxi71csD0Po"
   },
   "outputs": [],
   "source": []
  },
  {
   "cell_type": "code",
   "execution_count": null,
   "metadata": {
    "id": "3uudZU8HEjC4"
   },
   "outputs": [],
   "source": []
  },
  {
   "cell_type": "code",
   "execution_count": null,
   "metadata": {
    "colab": {
     "base_uri": "https://localhost:8080/"
    },
    "executionInfo": {
     "elapsed": 459,
     "status": "ok",
     "timestamp": 1746979254529,
     "user": {
      "displayName": "Pranab Halder",
      "userId": "17597607183538857189"
     },
     "user_tz": -330
    },
    "id": "4MVTFDKXEvRG",
    "outputId": "8159b1d5-8523-46e1-8c29-57665928d678"
   },
   "outputs": [],
   "source": [
    "class MyIterator:\n",
    "    def __init__(self, limit):\n",
    "        self.limit = limit\n",
    "        self.current = 0\n",
    "\n",
    "    def __iter__(self):\n",
    "        # Returns the iterator object itself\n",
    "        return self\n",
    "\n",
    "    def __next__(self):\n",
    "        # Returns the next item in the sequence\n",
    "        if self.current < self.limit:\n",
    "            result = self.current\n",
    "            self.current += 1\n",
    "            return result\n",
    "        else:\n",
    "            raise StopIteration  # Signals the end of iteration\n",
    "\n",
    "# Create an iterator object\n",
    "my_iterator = MyIterator(5)\n",
    "\n",
    "# Iterate using a for loop\n",
    "for item in my_iterator:\n",
    "    print(item)  # Output: 0 1 2 3 4"
   ]
  },
  {
   "cell_type": "code",
   "execution_count": null,
   "metadata": {
    "colab": {
     "base_uri": "https://localhost:8080/"
    },
    "executionInfo": {
     "elapsed": 1885,
     "status": "ok",
     "timestamp": 1746986964785,
     "user": {
      "displayName": "Pranab Halder",
      "userId": "17597607183538857189"
     },
     "user_tz": -330
    },
    "id": "cRgZnfI1iRqx",
    "outputId": "33828b74-cac6-49f1-96a4-cecf2ed0ad1a"
   },
   "outputs": [],
   "source": [
    "x = 1  # Start with 1 (the first odd number)\n",
    "while x <= 30:\n",
    "    if x % 2 != 0:  # Check if x is odd\n",
    "        print(x, end=\",\")\n",
    "    x += 1  # Increment x in each iteration\n"
   ]
  },
  {
   "cell_type": "code",
   "execution_count": null,
   "metadata": {
    "colab": {
     "base_uri": "https://localhost:8080/"
    },
    "executionInfo": {
     "elapsed": 1952,
     "status": "ok",
     "timestamp": 1747106263207,
     "user": {
      "displayName": "Pranab Halder",
      "userId": "17597607183538857189"
     },
     "user_tz": -330
    },
    "id": "WgY648fZExpi",
    "outputId": "0b35ce09-ec97-4d07-e629-90844ec01da9"
   },
   "outputs": [],
   "source": [
    "n = [1,2,3,4,5,6]\n",
    "for i in n:\n",
    "    print(i*10, end=\" \")"
   ]
  },
  {
   "cell_type": "code",
   "execution_count": null,
   "metadata": {
    "executionInfo": {
     "elapsed": 1874,
     "status": "ok",
     "timestamp": 1747275972270,
     "user": {
      "displayName": "Pranab Halder",
      "userId": "17597607183538857189"
     },
     "user_tz": -330
    },
    "id": "CtwA8NckpY-g"
   },
   "outputs": [],
   "source": [
    "# Abstruct class\n"
   ]
  },
  {
   "cell_type": "code",
   "execution_count": null,
   "metadata": {
    "colab": {
     "base_uri": "https://localhost:8080/"
    },
    "executionInfo": {
     "elapsed": 10,
     "status": "ok",
     "timestamp": 1747276019194,
     "user": {
      "displayName": "Pranab Halder",
      "userId": "17597607183538857189"
     },
     "user_tz": -330
    },
    "id": "0KYR2P1rwyfY",
    "outputId": "b535ef79-06f0-47e0-c105-51d4b0c40fa3"
   },
   "outputs": [],
   "source": [
    "# prompt: abstract class in python , add comment for study purpose\n",
    "\n",
    "# Abstract classes in Python cannot be instantiated directly.\n",
    "# They serve as blueprints for other classes, defining a common interface.\n",
    "# Abstract methods within an abstract class are declared but have no implementation.\n",
    "# Subclasses *must* provide concrete implementations for these abstract methods.\n",
    "\n",
    "from abc import ABC, abstractmethod  # Import the ABC and abstractmethod modules\n",
    "\n",
    "# Define an abstract base class\n",
    "class Shape(ABC):  # Inherit from ABC to create an abstract base class\n",
    "    @abstractmethod  # Decorator to mark a method as abstract\n",
    "    def area(self):\n",
    "        pass  # No implementation in the abstract class\n",
    "\n",
    "    @abstractmethod\n",
    "    def perimeter(self):\n",
    "        pass  # No implementation in the abstract class\n",
    "\n",
    "# Define concrete classes that inherit from the abstract class\n",
    "class Circle(Shape): # Circle class inherits from Shape\n",
    "    def __init__(self, radius):\n",
    "        self.radius = radius\n",
    "\n",
    "    def area(self):  # Concrete implementation for area()\n",
    "        return 3.14159 * self.radius * self.radius\n",
    "\n",
    "    def perimeter(self): # Concrete implementation for perimeter()\n",
    "        return 2 * 3.14159 * self.radius\n",
    "\n",
    "\n",
    "class Rectangle(Shape): # Rectangle class inherits from Shape\n",
    "    def __init__(self, width, height):\n",
    "        self.width = width\n",
    "        self.height = height\n",
    "\n",
    "    def area(self):  # Concrete implementation for area()\n",
    "        return self.width * self.height\n",
    "\n",
    "    def perimeter(self): # Concrete implementation for perimeter()\n",
    "        return 2 * (self.width + self.height)\n",
    "\n",
    "# Create objects of the concrete classes\n",
    "circle = Circle(5)\n",
    "rectangle = Rectangle(4, 6)\n",
    "\n",
    "# Call the methods\n",
    "print(\"Circle Area:\", circle.area())\n",
    "print(\"Circle Perimeter:\", circle.perimeter())\n",
    "print(\"Rectangle Area:\", rectangle.area())\n",
    "print(\"Rectangle Perimeter:\", rectangle.perimeter())\n",
    "\n",
    "# Attempting to create an object of the abstract class will raise an error:\n",
    "# shape = Shape()  # This will cause a TypeError\n"
   ]
  },
  {
   "cell_type": "code",
   "execution_count": null,
   "metadata": {
    "executionInfo": {
     "elapsed": 3,
     "status": "ok",
     "timestamp": 1747277455709,
     "user": {
      "displayName": "Pranab Halder",
      "userId": "17597607183538857189"
     },
     "user_tz": -330
    },
    "id": "SyTJPA_BxC3r"
   },
   "outputs": [],
   "source": [
    "# prompt: Why we use numpy?\n",
    "\n",
    "# NumPy is used for its powerful N-dimensional array object and a collection of routines for processing those arrays.\n",
    "# It provides significant performance benefits over Python lists, especially when dealing with numerical computations, because NumPy arrays are stored in contiguous memory locations and are implemented in C, making them much faster.\n",
    "# NumPy is fundamental for scientific computing and data analysis in Python due to its efficiency and wide range of functionalities for numerical operations, linear algebra, Fourier transforms, and random number generation.\n"
   ]
  },
  {
   "cell_type": "code",
   "execution_count": 3,
   "metadata": {
    "colab": {
     "base_uri": "https://localhost:8080/"
    },
    "executionInfo": {
     "elapsed": 590,
     "status": "ok",
     "timestamp": 1747277705986,
     "user": {
      "displayName": "Pranab Halder",
      "userId": "17597607183538857189"
     },
     "user_tz": -330
    },
    "id": "W9CdlP0X2fWv",
    "outputId": "9305a21b-ef6f-4547-a8a2-3be9766e4508"
   },
   "outputs": [
    {
     "name": "stdout",
     "output_type": "stream",
     "text": [
      "*\n",
      "*\n",
      "*\n",
      "*\n",
      "*\n",
      "*\n",
      "*\n",
      "*\n",
      "*\n",
      "*\n",
      "*\n",
      "*\n",
      "*\n",
      "*\n",
      "*\n",
      "*\n",
      "*\n",
      "*\n",
      "*\n",
      "*\n",
      "*\n",
      "*\n",
      "*\n",
      "*\n",
      "*\n",
      "*\n",
      "*\n",
      "*\n",
      "*\n",
      "*\n",
      "*\n",
      "*\n",
      "*\n",
      "*\n",
      "*\n",
      "*\n",
      "*\n",
      "*\n",
      "*\n",
      "*\n",
      "*\n",
      "*\n",
      "*\n",
      "*\n",
      "*\n"
     ]
    }
   ],
   "source": [
    "char = \"*\"\n",
    "for i in range(1,10):\n",
    "  for j in range(i):\n",
    "\n",
    "      print(char)"
   ]
  },
  {
   "cell_type": "code",
   "execution_count": null,
   "metadata": {
    "colab": {
     "base_uri": "https://localhost:8080/"
    },
    "executionInfo": {
     "elapsed": 4,
     "status": "ok",
     "timestamp": 1747278007397,
     "user": {
      "displayName": "Pranab Halder",
      "userId": "17597607183538857189"
     },
     "user_tz": -330
    },
    "id": "Pf0ooJIW397V",
    "outputId": "43856530-ca25-413f-c1cc-767ccfd44a0f"
   },
   "outputs": [],
   "source": [
    "for i in range(1, 10 + 1):\n",
    "    print(\"*\" * i)"
   ]
  },
  {
   "cell_type": "code",
   "execution_count": null,
   "metadata": {
    "id": "G7VoFui23ezG"
   },
   "outputs": [],
   "source": []
  }
 ],
 "metadata": {
  "colab": {
   "authorship_tag": "ABX9TyPhxVnLs8yVR8pRGzWZ/ybj",
   "provenance": []
  },
  "kernelspec": {
   "display_name": "Python 3",
   "name": "python3"
  },
  "language_info": {
   "codemirror_mode": {
    "name": "ipython",
    "version": 3
   },
   "file_extension": ".py",
   "mimetype": "text/x-python",
   "name": "python",
   "nbconvert_exporter": "python",
   "pygments_lexer": "ipython3",
   "version": "3.13.3"
  }
 },
 "nbformat": 4,
 "nbformat_minor": 0
}
