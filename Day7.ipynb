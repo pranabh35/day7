{
 "cells": [
  {
   "cell_type": "code",
   "execution_count": 1,
   "id": "248a5562",
   "metadata": {},
   "outputs": [
    {
     "name": "stdout",
     "output_type": "stream",
     "text": [
      "Are Abhishek bhai tumi kothai?\n"
     ]
    }
   ],
   "source": [
    "print(\"Are Abhishek bhai tumi kothai?\")"
   ]
  },
  {
   "cell_type": "code",
   "execution_count": null,
   "id": "eb10e013",
   "metadata": {},
   "outputs": [],
   "source": []
  }
 ],
 "metadata": {
  "kernelspec": {
   "display_name": "Python 3",
   "language": "python",
   "name": "python3"
  },
  "language_info": {
   "codemirror_mode": {
    "name": "ipython",
    "version": 3
   },
   "file_extension": ".py",
   "mimetype": "text/x-python",
   "name": "python",
   "nbconvert_exporter": "python",
   "pygments_lexer": "ipython3",
   "version": "3.13.3"
  }
 },
 "nbformat": 4,
 "nbformat_minor": 5
}
