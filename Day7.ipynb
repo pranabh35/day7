{
 "cells": [
  {
   "cell_type": "code",
   "execution_count": null,
   "id": "248a5562",
   "metadata": {},
   "outputs": [],
   "source": [
    "print(\"Are Abhishek bhai tumi kothai?\")"
   ]
  },
  {
   "cell_type": "code",
   "execution_count": null,
   "id": "eb10e013",
   "metadata": {},
   "outputs": [],
   "source": []
  }
 ],
 "metadata": {
  "language_info": {
   "name": "python"
  }
 },
 "nbformat": 4,
 "nbformat_minor": 5
}
